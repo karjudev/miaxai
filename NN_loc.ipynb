{
 "cells": [
  {
   "cell_type": "markdown",
   "source": [
    "# Artificial Neural Network on Location dataset"
   ],
   "metadata": {}
  },
  {
   "cell_type": "code",
   "execution_count": 1,
   "source": [
    "import pandas as pd\n",
    "import numpy as np\n",
    "import torch\n",
    "import torch.nn as nn\n",
    "import torch.nn.functional as F\n",
    "import torch.utils.data as data_utils\n",
    "from sklearn.model_selection import train_test_split"
   ],
   "outputs": [],
   "metadata": {}
  },
  {
   "cell_type": "code",
   "execution_count": 2,
   "source": [
    "loaded = np.load(\"./data/bb_data.npz\")\n",
    "X_train = loaded[\"X_train\"]\n",
    "y_train = loaded[\"y_train\"]\n",
    "X_test = loaded[\"X_test\"]\n",
    "y_test = loaded[\"y_test\"]"
   ],
   "outputs": [],
   "metadata": {}
  },
  {
   "cell_type": "code",
   "execution_count": 3,
   "source": [
    "train_target = torch.tensor(y_train, dtype=torch.float64)\n",
    "train = torch.tensor(X_train, dtype=torch.float64) \n",
    "train_tensor = data_utils.TensorDataset(train, train_target) \n",
    "train_loader = data_utils.DataLoader(dataset = train_tensor, batch_size=64, shuffle = True)"
   ],
   "outputs": [],
   "metadata": {}
  },
  {
   "cell_type": "code",
   "execution_count": 4,
   "source": [
    "class Net(nn.Module):\n",
    "    def __init__(self):\n",
    "        super().__init__()\n",
    "        ### FOR XAVIER INITIALIZATION\n",
    "        self.fc1 = nn.Linear(236, 128) #fc stays for 'fully connected'\n",
    "        nn.init.xavier_normal_(self.fc1.weight)\n",
    "        self.drop = nn.Dropout(0.3)\n",
    "        self.fc4 = nn.Linear(128,30)\n",
    "        nn.init.xavier_normal_(self.fc4.weight)\n",
    "        \n",
    "    def forward(self, x):\n",
    "        # Pass the input tensor through each of our operations\n",
    "        x = torch.tanh(self.fc1(x))\n",
    "        x = self.fc4(self.drop(x))\n",
    "        return F.softmax(x, dim=1)\n",
    "    \n",
    "    \n",
    "net=Net()\n",
    "net=net.float()\n",
    "print(net)"
   ],
   "outputs": [
    {
     "output_type": "stream",
     "name": "stdout",
     "text": [
      "Net(\n",
      "  (fc1): Linear(in_features=236, out_features=128, bias=True)\n",
      "  (drop): Dropout(p=0.3, inplace=False)\n",
      "  (fc4): Linear(in_features=128, out_features=30, bias=True)\n",
      ")\n"
     ]
    }
   ],
   "metadata": {}
  },
  {
   "cell_type": "code",
   "execution_count": 5,
   "source": [
    "loss_function = nn.CrossEntropyLoss()\n",
    "optimizer = torch.optim.Adam(net.parameters(), lr=0.001, eps=1e-8, weight_decay=1e-07)\n",
    "print('inizio training rete')\n"
   ],
   "outputs": [
    {
     "output_type": "stream",
     "name": "stdout",
     "text": [
      "inizio training rete\n"
     ]
    }
   ],
   "metadata": {}
  },
  {
   "cell_type": "code",
   "execution_count": 6,
   "source": [
    "for _ in range(50): # 200 full passes over the data\n",
    "    for data in train_loader:  #is a batch of data\n",
    "        X, y = data  # X is the batch of features, y is the batch of targets.\n",
    "        X = X.float()\n",
    "        y = y.float()\n",
    "        X=X.view(-1,236)\n",
    "        net.zero_grad()  # sets gradients to 0 before loss calc. You will do this likely every step.\n",
    "        output = net(X)# pass in the reshaped batch (recall they are 1*237) view=shape\n",
    "        loss = loss_function(output, y.long() ) # calc and grab the loss value\n",
    "        loss.backward() # apply this loss backwards thru the network's parameters\n",
    "        optimizer.step()  # attempt to optimize weights to account for loss/gradients\n",
    "    print(loss)  # print loss. We hope loss (a measure of wrong-ness) declines! "
   ],
   "outputs": [
    {
     "output_type": "stream",
     "name": "stdout",
     "text": [
      "tensor(3.2938, grad_fn=<NllLossBackward>)\n",
      "tensor(3.0330, grad_fn=<NllLossBackward>)\n",
      "tensor(3.1915, grad_fn=<NllLossBackward>)\n",
      "tensor(2.7640, grad_fn=<NllLossBackward>)\n",
      "tensor(2.7127, grad_fn=<NllLossBackward>)\n",
      "tensor(2.7687, grad_fn=<NllLossBackward>)\n",
      "tensor(2.7009, grad_fn=<NllLossBackward>)\n",
      "tensor(2.7460, grad_fn=<NllLossBackward>)\n",
      "tensor(2.6360, grad_fn=<NllLossBackward>)\n",
      "tensor(2.4925, grad_fn=<NllLossBackward>)\n",
      "tensor(2.6426, grad_fn=<NllLossBackward>)\n",
      "tensor(2.5696, grad_fn=<NllLossBackward>)\n",
      "tensor(2.6090, grad_fn=<NllLossBackward>)\n",
      "tensor(2.5499, grad_fn=<NllLossBackward>)\n",
      "tensor(2.6105, grad_fn=<NllLossBackward>)\n",
      "tensor(2.5200, grad_fn=<NllLossBackward>)\n",
      "tensor(2.5602, grad_fn=<NllLossBackward>)\n",
      "tensor(2.4825, grad_fn=<NllLossBackward>)\n",
      "tensor(2.4843, grad_fn=<NllLossBackward>)\n",
      "tensor(2.5619, grad_fn=<NllLossBackward>)\n",
      "tensor(2.7269, grad_fn=<NllLossBackward>)\n",
      "tensor(2.5181, grad_fn=<NllLossBackward>)\n",
      "tensor(2.5533, grad_fn=<NllLossBackward>)\n",
      "tensor(2.6282, grad_fn=<NllLossBackward>)\n",
      "tensor(2.5433, grad_fn=<NllLossBackward>)\n",
      "tensor(2.5535, grad_fn=<NllLossBackward>)\n",
      "tensor(2.4718, grad_fn=<NllLossBackward>)\n",
      "tensor(2.4740, grad_fn=<NllLossBackward>)\n",
      "tensor(2.5847, grad_fn=<NllLossBackward>)\n",
      "tensor(2.5686, grad_fn=<NllLossBackward>)\n",
      "tensor(2.4800, grad_fn=<NllLossBackward>)\n",
      "tensor(2.4743, grad_fn=<NllLossBackward>)\n",
      "tensor(2.4742, grad_fn=<NllLossBackward>)\n",
      "tensor(2.4603, grad_fn=<NllLossBackward>)\n",
      "tensor(2.4809, grad_fn=<NllLossBackward>)\n",
      "tensor(2.5237, grad_fn=<NllLossBackward>)\n",
      "tensor(2.4656, grad_fn=<NllLossBackward>)\n",
      "tensor(2.4709, grad_fn=<NllLossBackward>)\n",
      "tensor(2.5421, grad_fn=<NllLossBackward>)\n",
      "tensor(2.4778, grad_fn=<NllLossBackward>)\n",
      "tensor(2.4595, grad_fn=<NllLossBackward>)\n",
      "tensor(2.5427, grad_fn=<NllLossBackward>)\n",
      "tensor(2.4582, grad_fn=<NllLossBackward>)\n",
      "tensor(2.4593, grad_fn=<NllLossBackward>)\n",
      "tensor(2.4655, grad_fn=<NllLossBackward>)\n",
      "tensor(2.4610, grad_fn=<NllLossBackward>)\n",
      "tensor(2.4802, grad_fn=<NllLossBackward>)\n",
      "tensor(2.4720, grad_fn=<NllLossBackward>)\n",
      "tensor(2.4661, grad_fn=<NllLossBackward>)\n",
      "tensor(2.5438, grad_fn=<NllLossBackward>)\n"
     ]
    }
   ],
   "metadata": {}
  },
  {
   "cell_type": "code",
   "execution_count": 7,
   "source": [
    "correct = 0\n",
    "total = 0\n",
    "\n",
    "with torch.no_grad():\n",
    "    for data in train_loader:\n",
    "        X,y = data\n",
    "        output = net(X.view(-1,236).float()) #sta davvero facendo quello che deve?\n",
    "        for idx, i in enumerate(output):\n",
    "            if torch.argmax(i) == y[idx]:\n",
    "                correct+=1\n",
    "            total +=1\n",
    "print(\"Accuracy sul train: \", correct/total)"
   ],
   "outputs": [
    {
     "output_type": "stream",
     "name": "stdout",
     "text": [
      "Accuracy sul train:  0.9856792144026186\n"
     ]
    }
   ],
   "metadata": {}
  },
  {
   "cell_type": "code",
   "execution_count": 8,
   "source": [
    "#TEST SET\n",
    "test_target = torch.tensor(y_test, dtype=torch.float64)\n",
    "test = torch.tensor(X_test, dtype=torch.float64) \n",
    "test_tensor = data_utils.TensorDataset(test, test_target) \n",
    "test_loader = data_utils.DataLoader(dataset = test_tensor, batch_size=16, shuffle = True)\n"
   ],
   "outputs": [],
   "metadata": {}
  },
  {
   "cell_type": "code",
   "execution_count": 9,
   "source": [
    "correct = 0\n",
    "total = 0\n",
    "\n",
    "with torch.no_grad():\n",
    "    for data in test_loader:\n",
    "        X,y = data\n",
    "        output = net(X.view(-1,236).float())\n",
    "        for idx, i in enumerate(output):\n",
    "            if torch.argmax(i) == y[idx]:\n",
    "                correct+=1\n",
    "            total +=1\n",
    "print(\"Accuracy  sul test set: \", round(correct/total,3))"
   ],
   "outputs": [
    {
     "output_type": "stream",
     "name": "stdout",
     "text": [
      "Accuracy  sul test set:  0.842\n"
     ]
    }
   ],
   "metadata": {}
  },
  {
   "cell_type": "code",
   "execution_count": null,
   "source": [],
   "outputs": [],
   "metadata": {}
  },
  {
   "cell_type": "code",
   "execution_count": 10,
   "source": [
    "#stampare il vettore classi - PREDICT -\n",
    "with torch.no_grad():\n",
    "  net.eval()\n",
    "  y_pred=net(test.float())\n",
    "  #correct = (y_pred.max(dim=1)[1] == y_test)\n",
    "  #print(torch.mean(correct.item()))\n",
    "z=[]\n",
    "for i in y_pred:\n",
    "    z.append(int(torch.argmax(i)))\n",
    "print(len(y_pred), len(z))\n",
    "print('stampo lista predict')\n",
    "print(len(pd.unique(z)))"
   ],
   "outputs": [
    {
     "output_type": "stream",
     "name": "stdout",
     "text": [
      "612 612\n",
      "stampo lista predict\n",
      "30\n"
     ]
    }
   ],
   "metadata": {}
  },
  {
   "cell_type": "code",
   "execution_count": 11,
   "source": [
    "torch.save(net.state_dict(), \"./data/net.pt\")\n",
    "torch.save(optimizer.state_dict(), \"./data/optimizer.pt\")\n",
    "torch.save(loss_function.state_dict(), \"./data/loss_function.pt\")"
   ],
   "outputs": [],
   "metadata": {}
  }
 ],
 "metadata": {
  "kernelspec": {
   "display_name": "Python 3",
   "language": "python",
   "name": "python3"
  },
  "language_info": {
   "codemirror_mode": {
    "name": "ipython",
    "version": 3
   },
   "file_extension": ".py",
   "mimetype": "text/x-python",
   "name": "python",
   "nbconvert_exporter": "python",
   "pygments_lexer": "ipython3",
   "version": "3.6.5"
  }
 },
 "nbformat": 4,
 "nbformat_minor": 2
}